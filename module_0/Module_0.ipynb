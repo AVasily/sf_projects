{
 "cells": [
  {
   "cell_type": "code",
   "execution_count": 4,
   "metadata": {},
   "outputs": [
    {
     "name": "stdout",
     "output_type": "stream",
     "text": [
      "Ваш алгоритм угадывает число в среднем за 5 попыток\n"
     ]
    },
    {
     "data": {
      "text/plain": [
       "5"
      ]
     },
     "execution_count": 4,
     "metadata": {},
     "output_type": "execute_result"
    }
   ],
   "source": [
    "def game_core_v3(p_number, p_min_range=1, p_max_range=100):\n",
    "    # Функция ищет загаданное число p_number в диапазоне [p_min_range,p_max_range]\n",
    "    # Диапазон поиска сужается на половину на каждой итерации\n",
    "    \n",
    "    f_predict = lambda l_min_range, l_max_range: int(l_min_range + (l_max_range - l_min_range) / 2)\n",
    "    \n",
    "    # Введены ошибочные данные\n",
    "    if p_min_range >= p_max_range:\n",
    "        return -1\n",
    "    if p_number < p_min_range or p_number > p_max_range:\n",
    "        return -1\n",
    "    \n",
    "    count=1\n",
    "    l_predict = f_predict(p_min_range, p_max_range)\n",
    "    \n",
    "    if p_number in [p_min_range,p_max_range]:\n",
    "        return(count)\n",
    "    \n",
    "    # Сужение окна поиска на каждой итерации с\n",
    "    # с сохранением минимальной и максимальной границ\n",
    "    while p_number != l_predict:\n",
    "        count+=1\n",
    "        if p_number > l_predict:\n",
    "            p_min_range=l_predict\n",
    "            l_predict=f_predict(p_min_range, p_max_range)\n",
    "        elif p_number < l_predict:\n",
    "            p_max_range=l_predict\n",
    "            l_predict=f_predict(p_min_range, p_max_range)\n",
    "\n",
    "    # выход из цикла\n",
    "    return(count) \n",
    "\n",
    "\n",
    "def score_game(game_core):\n",
    "    import numpy as np\n",
    "    \n",
    "    l_min_range=1 # Минимальное значение ренджа\n",
    "    l_max_range=100 # Максимальное значение ренджа\n",
    "    l_count_repet=100000 # Количество повторений\n",
    "    \n",
    "    count_ls = []\n",
    "    np.random.seed(1)  # фиксируем RANDOM SEED, чтобы ваш эксперимент был воспроизводим!\n",
    "    random_array = np.random.randint(l_min_range,l_max_range+1, size=(l_count_repet))\n",
    "\n",
    "    for number in random_array:\n",
    "        count_ls.append(game_core(number,l_min_range,l_max_range))\n",
    "        \n",
    "    score = int(np.mean(count_ls))\n",
    "    \n",
    "    print(f\"Ваш алгоритм угадывает число в среднем за {score} попыток\")\n",
    "    \n",
    "    return(score)\n",
    "\n",
    "score_game(game_core_v3)"
   ]
  },
  {
   "cell_type": "code",
   "execution_count": null,
   "metadata": {},
   "outputs": [],
   "source": []
  }
 ],
 "metadata": {
  "kernelspec": {
   "display_name": "Python 3",
   "language": "python",
   "name": "python3"
  },
  "language_info": {
   "codemirror_mode": {
    "name": "ipython",
    "version": 3
   },
   "file_extension": ".py",
   "mimetype": "text/x-python",
   "name": "python",
   "nbconvert_exporter": "python",
   "pygments_lexer": "ipython3",
   "version": "3.8.3"
  }
 },
 "nbformat": 4,
 "nbformat_minor": 4
}
